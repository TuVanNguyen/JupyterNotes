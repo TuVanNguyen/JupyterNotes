{
 "cells": [
  {
   "cell_type": "markdown",
   "metadata": {},
   "source": [
    "# Python for Quantitative Analysis (Coursea notes)\n",
    "\n",
    "\n"
   ]
  },
  {
   "cell_type": "code",
   "execution_count": 2,
   "metadata": {},
   "outputs": [],
   "source": [
    "import pandas as pd\n",
    "import matplotlib.pyplot as plt"
   ]
  },
  {
   "cell_type": "code",
   "execution_count": 9,
   "metadata": {},
   "outputs": [
    {
     "name": "stdout",
     "output_type": "stream",
     "text": [
      "            Date  Close/Last    Volume      Open         High        Low\n",
      "0     06/11/2020     $972.84  15916480    $990.2   $1018.9599       $972\n",
      "1     06/10/2020    $1025.05  18563410   $991.88     $1027.48     $982.5\n",
      "2     06/09/2020     $940.67  11388150   $940.01    $954.4399   $923.931\n",
      "3     06/08/2020     $949.92  14174730      $919         $950    $909.16\n",
      "4     06/05/2020     $885.66   7811917   $877.84      $886.52     $866.2\n",
      "...          ...         ...       ...       ...          ...        ...\n",
      "2501  07/06/2010      $16.11   6858092       $20          $20     $15.83\n",
      "2502  07/02/2010       $19.2   5135795       $23        $23.1     $18.71\n",
      "2503  07/01/2010      $21.96   8216789       $25       $25.92     $20.27\n",
      "2504  06/30/2010      $23.83  17165210    $25.79     $30.4192      $23.3\n",
      "2505  06/29/2010      $23.89  18751150       $19          $25     $17.54\n",
      "\n",
      "[2506 rows x 6 columns]\n"
     ]
    }
   ],
   "source": [
    "tsla = pd.read_csv('./data/TSLA.csv') #tesla stock\n",
    "print(tsla)"
   ]
  },
  {
   "cell_type": "markdown",
   "metadata": {},
   "source": [
    "## Calculate Moving Average"
   ]
  },
  {
   "cell_type": "code",
   "execution_count": null,
   "metadata": {},
   "outputs": [],
   "source": []
  }
 ],
 "metadata": {
  "kernelspec": {
   "display_name": "Python 3",
   "language": "python",
   "name": "python3"
  },
  "language_info": {
   "codemirror_mode": {
    "name": "ipython",
    "version": 3
   },
   "file_extension": ".py",
   "mimetype": "text/x-python",
   "name": "python",
   "nbconvert_exporter": "python",
   "pygments_lexer": "ipython3",
   "version": "3.7.6"
  }
 },
 "nbformat": 4,
 "nbformat_minor": 4
}
