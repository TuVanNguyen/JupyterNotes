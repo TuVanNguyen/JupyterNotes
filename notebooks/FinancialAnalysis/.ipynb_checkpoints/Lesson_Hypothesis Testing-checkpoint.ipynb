{
 "cells": [
  {
   "cell_type": "markdown",
   "metadata": {},
   "source": [
    "# Hypothesis Testing\n",
    "\n",
    "  * use sample info to test validity of conjectures about these parameters, such as whether the average daily return is above 0\n",
    "  \n",
    "## Setting hypothesis\n",
    "\n",
    "  * Null hypothesis $H_0$ : assertion if we are wrong, the one we want to reject\n",
    "  * Alternative Hypothesis $H_a$: assertion we accept is null hypothesis is invalidated\n",
    "  \n",
    "## For example, we want to test if average daily return is not 0\n",
    "\n",
    "$$\n",
    "H_0: \\mu = 0 \\\\\n",
    "H_a: \\mu \\neq 0\n",
    "$$\n",
    "\n",
    "\n",
    "## Z vs T Distribution\n",
    "  * Given $H_0$ is correct, we can conclude $|\\bar{x} - \\mu | $ can not be very large\n",
    "  * Given $H_0$ is correct, $\\hat{z}$ can not be far from 0 \n",
    "\n",
    "![Z and T distribution](./img/z&t_distribution.png)\n",
    "\n",
    "  * Z-distribution is based on population mean whereas t-distribution is based on sample mean\n",
    "  * t-distribution has relatively fatter tails, but as sample size gets larger the shape of t-distribution will more closely resemble Z-distribution\n",
    "  * larger sample size means t-distribution has greater degrees of freedom where DoF = n - 1\n",
    "  * this is why at significantly high sample size, we can substitute sample mean s for population mean $\\mu$ in the above calculations\n",
    "  \n",
    "## Two-Tail Test\n",
    "\n",
    "![Two Tail Test](./img/2-tail.png)\n",
    "\n",
    "  * note that the 2 red tails are the rejection regions for our test where $\\hat{z}$ is too far from 0, so we must reject $H_0$ in this case\n",
    "  * $\\alpha$ stands for significance value, so with $\\alpha = 5%$ we have a 5% chance of rejecting $H_0$ wrongly\n",
    "\n",
    "## One-Tail Test\n"
   ]
  },
  {
   "cell_type": "code",
   "execution_count": null,
   "metadata": {},
   "outputs": [],
   "source": []
  }
 ],
 "metadata": {
  "kernelspec": {
   "display_name": "Python 3",
   "language": "python",
   "name": "python3"
  },
  "language_info": {
   "codemirror_mode": {
    "name": "ipython",
    "version": 3
   },
   "file_extension": ".py",
   "mimetype": "text/x-python",
   "name": "python",
   "nbconvert_exporter": "python",
   "pygments_lexer": "ipython3",
   "version": "3.7.6"
  }
 },
 "nbformat": 4,
 "nbformat_minor": 4
}
