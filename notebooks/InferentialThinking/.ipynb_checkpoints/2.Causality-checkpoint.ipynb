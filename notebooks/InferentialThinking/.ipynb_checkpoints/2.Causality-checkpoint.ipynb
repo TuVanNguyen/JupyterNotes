{
 "cells": [
  {
   "cell_type": "markdown",
   "metadata": {},
   "source": [
    "# 2. Causality\n",
    "\n",
    "## Terms\n",
    "  * observational study: make conclusions based on observed data they had no hand in generating\n",
    "  * treatment: factor if interest in study\n",
    "  * association: relationship between treatment and outcome\n",
    "  * causality: whether the treatment caused the outcome\n",
    "\n",
    "> In an observational study, if the treatment and control groups differ in ways other than the treatment, it is difficult to make conclusions about causality.\n",
    "  * in other words, correlation does not equal causation\n",
    "  * look for confounding factors\n",
    "  \n",
    "## Randomized Controlled Experiment/Trial\n",
    "  * often done as blind experiments, with placebo\n",
    "  * assign individuals randomly to control and treatment groups\n",
    "  * a way to avoid confounding factors"
   ]
  },
  {
   "cell_type": "code",
   "execution_count": null,
   "metadata": {},
   "outputs": [],
   "source": []
  }
 ],
 "metadata": {
  "kernelspec": {
   "display_name": "Python 3",
   "language": "python",
   "name": "python3"
  },
  "language_info": {
   "codemirror_mode": {
    "name": "ipython",
    "version": 3
   },
   "file_extension": ".py",
   "mimetype": "text/x-python",
   "name": "python",
   "nbconvert_exporter": "python",
   "pygments_lexer": "ipython3",
   "version": "3.7.6"
  }
 },
 "nbformat": 4,
 "nbformat_minor": 4
}
