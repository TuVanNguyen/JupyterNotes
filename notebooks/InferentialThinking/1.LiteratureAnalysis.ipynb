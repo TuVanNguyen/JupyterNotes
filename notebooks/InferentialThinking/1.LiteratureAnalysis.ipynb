{
 "cells": [
  {
   "cell_type": "markdown",
   "metadata": {},
   "source": [
    "# Data Science with Literature Analysis\n",
    "\n",
    "## Resources\n",
    "\n",
    "[Computational and Inferential Thinking Ebook](https://www.inferentialthinking.com/chapters/intro.html)"
   ]
  },
  {
   "cell_type": "code",
   "execution_count": 90,
   "metadata": {},
   "outputs": [
    {
     "data": {
      "text/plain": [
       "['Down the Rabbit-Hole',\n",
       " 'The Pool of Tears',\n",
       " 'A Caucus-Race and a Long Tale',\n",
       " 'The Rabbit Sends in a Little Bill',\n",
       " 'Advice from a Caterpillar',\n",
       " 'Pig and Pepper',\n",
       " 'A Mad Tea-Party',\n",
       " 'The Queen’s Croquet-Ground',\n",
       " 'The Mock Turtle’s Story',\n",
       " 'The Lobster Quadrille',\n",
       " 'Who Stole the Tarts?',\n",
       " 'Alice’s Evidence']"
      ]
     },
     "execution_count": 90,
     "metadata": {},
     "output_type": "execute_result"
    }
   ],
   "source": [
    "from urllib.request import urlopen\n",
    "import re\n",
    "\n",
    "def read_url(url):\n",
    "    with urlopen(url) as f:\n",
    "        text = f.read()\n",
    "        text = text.decode('utf-8')\n",
    "    return text\n",
    "\n",
    "def get_chapters(text):\n",
    "    pattern = re.compile(\"CHAPTER\\s[IVX]+\\.[\\s]+([’\\w\\s\\-\\?]+)\\r\")\n",
    "    chapters = pattern.findall(text)\n",
    "    chapters = chapters[:len(chapters)//2]\n",
    "    chapters[-1] = chapters[-1].replace('\\r\\n','')\n",
    "    return chapters\n",
    "    \n",
    "    \n",
    "# Let's do \"Alice in Wonderland\"\n",
    "aiw_url = 'http://www.gutenberg.org/files/11/11-0.txt'\n",
    "aiw_text = read_url(aiw_url)\n",
    "aiw_chapters = get_chapters(aiw_text)\n",
    "    \n",
    "    \n",
    "# Let's do \"The Wonderful Wizard of Oz\"\n",
    "wwo_url = 'http://www.gutenberg.org/cache/epub/55/pg55.txt'\n",
    "\n",
    "\n",
    "\n",
    "aiw_chapters"
   ]
  },
  {
   "cell_type": "code",
   "execution_count": null,
   "metadata": {},
   "outputs": [],
   "source": []
  },
  {
   "cell_type": "code",
   "execution_count": null,
   "metadata": {},
   "outputs": [],
   "source": []
  }
 ],
 "metadata": {
  "kernelspec": {
   "display_name": "Python 3",
   "language": "python",
   "name": "python3"
  },
  "language_info": {
   "codemirror_mode": {
    "name": "ipython",
    "version": 3
   },
   "file_extension": ".py",
   "mimetype": "text/x-python",
   "name": "python",
   "nbconvert_exporter": "python",
   "pygments_lexer": "ipython3",
   "version": "3.7.6"
  }
 },
 "nbformat": 4,
 "nbformat_minor": 4
}
