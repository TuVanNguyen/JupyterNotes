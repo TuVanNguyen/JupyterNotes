{
 "cells": [
  {
   "cell_type": "markdown",
   "metadata": {},
   "source": [
    "# Population and Sampling\n",
    "\n",
    "  * **population**: group of individuals with something in common\n",
    "  * **sample**: small subgroup of population, that must be randomly sampled to be representative of population\n",
    "  * Types of Sampling:\n",
    "    * **sampling replacement**: put individuals back into the population before sampling again\n",
    "    * **sampling without replacement**\n",
    "  * **parameter**: characteristic or summary number of populations (e.g mean,\n",
    "variance, standard deviation of population)\n",
    "  * **statistic**: characteristic or summary number of sample\n",
    "  "
   ]
  },
  {
   "cell_type": "code",
   "execution_count": 1,
   "metadata": {},
   "outputs": [],
   "source": [
    "import pandas as pd\n",
    "import numpy as np\n",
    "from scipy.stats import norm"
   ]
  },
  {
   "cell_type": "code",
   "execution_count": 2,
   "metadata": {},
   "outputs": [
    {
     "name": "stdout",
     "output_type": "stream",
     "text": [
      "1    48\n",
      "1    48\n",
      "6    72\n",
      "0    47\n",
      "2    85\n",
      "Name: Population, dtype: int64\n",
      "5    13\n",
      "7    16\n",
      "0    47\n",
      "9    60\n",
      "3    20\n",
      "Name: Population, dtype: int64\n"
     ]
    }
   ],
   "source": [
    "# How to sample\n",
    "data = pd.DataFrame()\n",
    "data['Population'] = [47, 48, 85, 20, 19, 13, 72, 16, 50, 60]\n",
    "sample_w_replacement = data['Population'].sample(5, replace=True)\n",
    "print(sample_w_replacement)\n",
    "\n",
    "sample_wo_replacement = data['Population'].sample(5, replace=False)\n",
    "print(sample_wo_replacement)"
   ]
  },
  {
   "cell_type": "markdown",
   "metadata": {},
   "source": [
    "# Parameter and Statistics\n"
   ]
  },
  {
   "cell_type": "code",
   "execution_count": 3,
   "metadata": {},
   "outputs": [
    {
     "name": "stdout",
     "output_type": "stream",
     "text": [
      "Population mean:  43.0\n",
      "Population variance:  635.3333333333334\n",
      "Sample mean:  40.9\n",
      "Sample variance:  795.877777777778\n"
     ]
    }
   ],
   "source": [
    "# Parameters\n",
    "population_mean = data['Population'].mean()\n",
    "population_var = data['Population'].var()\n",
    "\n",
    "print(\"Population mean: \", population_mean)\n",
    "print(\"Population variance: \", population_var)\n",
    "\n",
    "# Statistics\n",
    "sample = data['Population'].sample(10, replace=True)\n",
    "sample_mean = sample.mean()\n",
    "sample_var = sample.var()\n",
    "\n",
    "print(\"Sample mean: \", sample_mean)\n",
    "print(\"Sample variance: \", sample_var)"
   ]
  },
  {
   "cell_type": "markdown",
   "metadata": {},
   "source": [
    "# Empirical Distribution of Mean"
   ]
  },
  {
   "cell_type": "code",
   "execution_count": 6,
   "metadata": {},
   "outputs": [
    {
     "data": {
      "text/plain": [
       "<matplotlib.axes._subplots.AxesSubplot at 0x7f959a21bcd0>"
      ]
     },
     "execution_count": 6,
     "metadata": {},
     "output_type": "execute_result"
    },
    {
     "data": {
      "image/png": "[encoded data removed]",
      "text/plain": [
       "<Figure size 1080x576 with 1 Axes>"
      ]
     },
     "metadata": {
      "needs_background": "light"
     },
     "output_type": "display_data"
    }
   ],
   "source": [
    "#Fstsample = pd.DataFrame(np.random.normal(10,5,size=30))\n",
    "\n",
    "meanlist = []\n",
    "for t in range(1000):\n",
    "    sample = pd.DataFrame(np.random.normal(10, 5, size = 30))\n",
    "    meanlist.append(sample[0].mean())\n",
    "\n",
    "collection = pd.DataFrame()\n",
    "collection['meanlist'] = meanlist\n",
    "collection['meanlist'].hist(bins=100, figsize=(15,8))\n"
   ]
  },
  {
   "cell_type": "code",
   "execution_count": null,
   "metadata": {},
   "outputs": [],
   "source": []
  }
 ],
 "metadata": {
  "kernelspec": {
   "display_name": "Python 3",
   "language": "python",
   "name": "python3"
  },
  "language_info": {
   "codemirror_mode": {
    "name": "ipython",
    "version": 3
   },
   "file_extension": ".py",
   "mimetype": "text/x-python",
   "name": "python",
   "nbconvert_exporter": "python",
   "pygments_lexer": "ipython3",
   "version": "3.7.6"
  }
 },
 "nbformat": 4,
 "nbformat_minor": 4
}
