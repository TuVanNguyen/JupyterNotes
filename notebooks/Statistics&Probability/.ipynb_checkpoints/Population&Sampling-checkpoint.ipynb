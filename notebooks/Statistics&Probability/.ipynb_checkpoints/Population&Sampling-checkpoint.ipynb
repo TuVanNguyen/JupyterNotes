{
 "cells": [
  {
   "cell_type": "markdown",
   "metadata": {},
   "source": [
    "# Population and Sampling\n",
    "\n",
    "  * **population**: group of individuals with something in common\n",
    "  * **sample**: small subgroup of population, that must be randomly sampled to be representative of population\n",
    "  * Types of Sampling:\n",
    "    * **sampling replacement**: put individuals back into the population before sampling again\n",
    "    * **sampling without replacement**\n",
    "  * **parameter**: characteristic or summary number of populations (e.g mean,\n",
    "variance, standard deviation of population)\n",
    "  * **statistic**: characteristic or summary number of sample\n",
    "  "
   ]
  },
  {
   "cell_type": "code",
   "execution_count": 1,
   "metadata": {},
   "outputs": [],
   "source": [
    "import pandas as pd\n",
    "import numpy as np"
   ]
  },
  {
   "cell_type": "code",
   "execution_count": 2,
   "metadata": {},
   "outputs": [
    {
     "name": "stdout",
     "output_type": "stream",
     "text": [
      "0    47\n",
      "7    16\n",
      "8    50\n",
      "9    60\n",
      "3    20\n",
      "Name: Population, dtype: int64\n",
      "3    20\n",
      "6    72\n",
      "5    13\n",
      "0    47\n",
      "7    16\n",
      "Name: Population, dtype: int64\n"
     ]
    }
   ],
   "source": [
    "# How to sample\n",
    "data = pd.DataFrame()\n",
    "data['Population'] = [47, 48, 85, 20, 19, 13, 72, 16, 50, 60]\n",
    "sample_w_replacement = data['Population'].sample(5, replace=True)\n",
    "print(sample_w_replacement)\n",
    "\n",
    "sample_wo_replacement = data['Population'].sample(5, replace=False)\n",
    "print(sample_wo_replacement)"
   ]
  },
  {
   "cell_type": "markdown",
   "metadata": {},
   "source": [
    "# Parameter and Statistics\n"
   ]
  },
  {
   "cell_type": "code",
   "execution_count": null,
   "metadata": {},
   "outputs": [],
   "source": [
    "# Parameters\n",
    "population_mean = data[]"
   ]
  }
 ],
 "metadata": {
  "kernelspec": {
   "display_name": "Python 3",
   "language": "python",
   "name": "python3"
  },
  "language_info": {
   "codemirror_mode": {
    "name": "ipython",
    "version": 3
   },
   "file_extension": ".py",
   "mimetype": "text/x-python",
   "name": "python",
   "nbconvert_exporter": "python",
   "pygments_lexer": "ipython3",
   "version": "3.7.6"
  }
 },
 "nbformat": 4,
 "nbformat_minor": 4
}
