{
 "cells": [
  {
   "cell_type": "markdown",
   "metadata": {},
   "source": [
    "# Models of Stock Return"
   ]
  },
  {
   "cell_type": "code",
   "execution_count": 1,
   "metadata": {},
   "outputs": [],
   "source": [
    "import pandas as pd\n",
    "import numpy as np\n",
    "import matplotlib.pyplot as plt\n",
    "from scipy.stats import norm\n"
   ]
  },
  {
   "cell_type": "code",
   "execution_count": 2,
   "metadata": {},
   "outputs": [
    {
     "data": {
      "text/html": [
       "<div>\n",
       "<style scoped>\n",
       "    .dataframe tbody tr th:only-of-type {\n",
       "        vertical-align: middle;\n",
       "    }\n",
       "\n",
       "    .dataframe tbody tr th {\n",
       "        vertical-align: top;\n",
       "    }\n",
       "\n",
       "    .dataframe thead th {\n",
       "        text-align: right;\n",
       "    }\n",
       "</style>\n",
       "<table border=\"1\" class=\"dataframe\">\n",
       "  <thead>\n",
       "    <tr style=\"text-align: right;\">\n",
       "      <th></th>\n",
       "      <th>Date</th>\n",
       "      <th>Close/Last</th>\n",
       "      <th>Volume</th>\n",
       "      <th>Open</th>\n",
       "      <th>High</th>\n",
       "      <th>Low</th>\n",
       "    </tr>\n",
       "    <tr>\n",
       "      <th>Date</th>\n",
       "      <th></th>\n",
       "      <th></th>\n",
       "      <th></th>\n",
       "      <th></th>\n",
       "      <th></th>\n",
       "      <th></th>\n",
       "    </tr>\n",
       "  </thead>\n",
       "  <tbody>\n",
       "    <tr>\n",
       "      <th>06/29/2010</th>\n",
       "      <td>06/29/2010</td>\n",
       "      <td>23.89</td>\n",
       "      <td>18751150.0</td>\n",
       "      <td>19.00</td>\n",
       "      <td>25.0000</td>\n",
       "      <td>17.54</td>\n",
       "    </tr>\n",
       "    <tr>\n",
       "      <th>06/30/2010</th>\n",
       "      <td>06/30/2010</td>\n",
       "      <td>23.83</td>\n",
       "      <td>17165210.0</td>\n",
       "      <td>25.79</td>\n",
       "      <td>30.4192</td>\n",
       "      <td>23.30</td>\n",
       "    </tr>\n",
       "    <tr>\n",
       "      <th>07/01/2010</th>\n",
       "      <td>07/01/2010</td>\n",
       "      <td>21.96</td>\n",
       "      <td>8216789.0</td>\n",
       "      <td>25.00</td>\n",
       "      <td>25.9200</td>\n",
       "      <td>20.27</td>\n",
       "    </tr>\n",
       "    <tr>\n",
       "      <th>07/02/2010</th>\n",
       "      <td>07/02/2010</td>\n",
       "      <td>19.20</td>\n",
       "      <td>5135795.0</td>\n",
       "      <td>23.00</td>\n",
       "      <td>23.1000</td>\n",
       "      <td>18.71</td>\n",
       "    </tr>\n",
       "    <tr>\n",
       "      <th>07/06/2010</th>\n",
       "      <td>07/06/2010</td>\n",
       "      <td>16.11</td>\n",
       "      <td>6858092.0</td>\n",
       "      <td>20.00</td>\n",
       "      <td>20.0000</td>\n",
       "      <td>15.83</td>\n",
       "    </tr>\n",
       "  </tbody>\n",
       "</table>\n",
       "</div>"
      ],
      "text/plain": [
       "                  Date  Close/Last      Volume   Open     High    Low\n",
       "Date                                                                 \n",
       "06/29/2010  06/29/2010       23.89  18751150.0  19.00  25.0000  17.54\n",
       "06/30/2010  06/30/2010       23.83  17165210.0  25.79  30.4192  23.30\n",
       "07/01/2010  07/01/2010       21.96   8216789.0  25.00  25.9200  20.27\n",
       "07/02/2010  07/02/2010       19.20   5135795.0  23.00  23.1000  18.71\n",
       "07/06/2010  07/06/2010       16.11   6858092.0  20.00  20.0000  15.83"
      ]
     },
     "execution_count": 2,
     "metadata": {},
     "output_type": "execute_result"
    }
   ],
   "source": [
    "company_stock = \"data/TSLA.csv\"\n",
    "stocks = pd.read_csv(company_stock, sep=r'\\s*,\\s*', encoding='ascii', engine='python')\n",
    "\n",
    "#Cleaning up Data\n",
    "#replace currency with float values\n",
    "stocks[stocks.columns[1:]] = stocks[stocks.columns[1:]].replace('[\\$,]', '', regex=True).astype(float)\n",
    "stocks = stocks.iloc[::-1] #reverse dataframe so dates are in ascending order\n",
    "stocks['Date'] = stocks['Date'].convert_dtypes(convert_string=True)\n",
    "stocks.index = stocks['Date'] #make date the index\n",
    "\n",
    "stocks.head()\n"
   ]
  },
  {
   "cell_type": "markdown",
   "metadata": {},
   "source": [
    "# Distribution of Log Return"
   ]
  },
  {
   "cell_type": "code",
   "execution_count": 3,
   "metadata": {},
   "outputs": [
    {
     "data": {
      "image/png": "[encoded data removed]",
      "text/plain": [
       "<Figure size 1080x576 with 1 Axes>"
      ]
     },
     "metadata": {
      "needs_background": "light"
     },
     "output_type": "display_data"
    }
   ],
   "source": [
    "stocks['LogReturn'] = np.log(stocks['Close/Last']).shift(-1) - np.log(stocks['Close/Last'])\n",
    "mu = stocks['LogReturn'].mean()\n",
    "sigma = stocks['LogReturn'].std(ddof=1)\n",
    "\n",
    "density = pd.DataFrame()\n",
    "density['x'] = np.arange(stocks['LogReturn'].min()-0.01, stocks['LogReturn'].max()+0.01, 0.001)\n",
    "density['pdf'] = norm.pdf(density['x'], mu, sigma)\n",
    "\n",
    "stocks['LogReturn'].hist(bins=50, figsize=(15,8))\n",
    "plt.plot(density['x'], density['pdf'], color='red')\n",
    "plt.show()"
   ]
  },
  {
   "cell_type": "code",
   "execution_count": 4,
   "metadata": {},
   "outputs": [
    {
     "name": "stdout",
     "output_type": "stream",
     "text": [
      "Probability stock price will drop over 5.0% in a day: 0.0670153739807429%\n",
      "Probability stock price will drop over 10.0% in a day: 0.0015698481428454592%\n"
     ]
    }
   ],
   "source": [
    "# probability stock price of company will drop in a day\n",
    "price_drops = [0.05, 0.10]\n",
    "for drop in price_drops:\n",
    "    prob_return1 = norm.cdf(-drop, mu, sigma)\n",
    "    print(\"Probability stock price will drop over {0}% in a day: {1}%\".format(drop*100, prob_return1))"
   ]
  },
  {
   "cell_type": "code",
   "execution_count": 5,
   "metadata": {},
   "outputs": [
    {
     "name": "stdout",
     "output_type": "stream",
     "text": [
      "Probability stock price will drop over 10.0% in a year: 0.19267969455526102%\n",
      "Probability stock price will drop over 20.0% in a year: 0.14661671912297358%\n",
      "Probability stock price will drop over 40.0% in a year: 0.07823610938703689%\n"
     ]
    }
   ],
   "source": [
    "# probability stock price of company will drop in a year\n",
    "price_drops = [0.10, 0.20, 0.40]\n",
    "mu220 = 253*mu # 253 is the number of trading days in a year\n",
    "sigma220 = (253**0.5) * sigma\n",
    "\n",
    "for drop in price_drops:\n",
    "    prob_return1 = norm.cdf(-drop, mu220, sigma220)\n",
    "    print(\"Probability stock price will drop over {0}% in a year: {1}%\".format(drop*100, prob_return1))"
   ]
  },
  {
   "cell_type": "markdown",
   "metadata": {},
   "source": [
    "# Calculate Value at risk (VaR)\n",
    "\n",
    "  * VaR is typically used by firms and the regulators in the financial industry to gauge the amount of assess needed to cover possible loss.\n",
    "  * Example for 5% quantile equal to -0.05%, there's a 5% chance that the daily return is worse than -5%"
   ]
  },
  {
   "cell_type": "code",
   "execution_count": 6,
   "metadata": {},
   "outputs": [
    {
     "name": "stdout",
     "output_type": "stream",
     "text": [
      "Single day value at risk -0.05503183271022103\n",
      "5.0% quantile: -0.05503183271022103\n",
      "25.0% quantile: -0.021693429750477302\n",
      "75.0% quantile: 0.024652918506924328\n",
      "95.0% quantile: 0.057991321466668036\n"
     ]
    }
   ],
   "source": [
    "VaR = norm.ppf(0.05, mu, sigma)\n",
    "print('Single day value at risk', VaR)\n",
    "\n",
    "#Quatile\n",
    "quantiles = [0.05, 0.25, 0.75, 0.95]\n",
    "for percent in quantiles:\n",
    "    print(\"{0}% quantile: {1}\".format(percent*100, norm.ppf(percent, mu, sigma)))\n"
   ]
  },
  {
   "cell_type": "code",
   "execution_count": null,
   "metadata": {},
   "outputs": [],
   "source": []
  }
 ],
 "metadata": {
  "kernelspec": {
   "display_name": "Python 3",
   "language": "python",
   "name": "python3"
  },
  "language_info": {
   "codemirror_mode": {
    "name": "ipython",
    "version": 3
   },
   "file_extension": ".py",
   "mimetype": "text/x-python",
   "name": "python",
   "nbconvert_exporter": "python",
   "pygments_lexer": "ipython3",
   "version": "3.7.6"
  }
 },
 "nbformat": 4,
 "nbformat_minor": 4
}
