{
 "cells": [
  {
   "cell_type": "markdown",
   "metadata": {},
   "source": [
    "# Association of Random Variables\n",
    "\n",
    "## Covariance\n",
    "  * measures the association between 2 variables\n",
    "\n",
    "### Population Covariance\n",
    "$\n",
    "Cov(X,Y)=\\frac{\\sum_{i=1}^{N}(X_i - \\mu_X)(Y_i - \\mu_Y)}{N}\n",
    "$\n",
    "\n",
    "### Sample Covariance\n",
    "$\n",
    "Cov(X,Y)=\\frac{\\sum_{i=1}^{n}(X_i - \\bar{X})(Y_i - \\bar{Y})}{n-1}\n",
    "$\n",
    "\n",
    "## Coefficient of Correlation\n",
    "  * covariance factorized to measure strength of association on cale of -1 to 1\n",
    "\n",
    "### Population Correlation Coefficient\n",
    "$\n",
    "\\rho(X,Y) = \n",
    "$"
   ]
  },
  {
   "cell_type": "code",
   "execution_count": null,
   "metadata": {},
   "outputs": [],
   "source": []
  }
 ],
 "metadata": {
  "kernelspec": {
   "display_name": "Python 3",
   "language": "python",
   "name": "python3"
  },
  "language_info": {
   "codemirror_mode": {
    "name": "ipython",
    "version": 3
   },
   "file_extension": ".py",
   "mimetype": "text/x-python",
   "name": "python",
   "nbconvert_exporter": "python",
   "pygments_lexer": "ipython3",
   "version": "3.7.6"
  }
 },
 "nbformat": 4,
 "nbformat_minor": 4
}
